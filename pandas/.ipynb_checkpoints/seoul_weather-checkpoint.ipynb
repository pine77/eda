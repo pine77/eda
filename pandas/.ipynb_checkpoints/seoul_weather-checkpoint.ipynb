{
 "cells": [
  {
   "cell_type": "code",
   "execution_count": 1,
   "id": "63810b0e",
   "metadata": {},
   "outputs": [],
   "source": [
    "import pandas as pd\n",
    "import numpy as np"
   ]
  },
  {
   "cell_type": "code",
   "execution_count": 4,
   "id": "248bbba5",
   "metadata": {},
   "outputs": [
    {
     "data": {
      "text/html": [
       "<div>\n",
       "<style scoped>\n",
       "    .dataframe tbody tr th:only-of-type {\n",
       "        vertical-align: middle;\n",
       "    }\n",
       "\n",
       "    .dataframe tbody tr th {\n",
       "        vertical-align: top;\n",
       "    }\n",
       "\n",
       "    .dataframe thead th {\n",
       "        text-align: right;\n",
       "    }\n",
       "</style>\n",
       "<table border=\"1\" class=\"dataframe\">\n",
       "  <thead>\n",
       "    <tr style=\"text-align: right;\">\n",
       "      <th></th>\n",
       "      <th>\\t\\t지점번호</th>\n",
       "      <th>지점명</th>\n",
       "      <th>일시</th>\n",
       "      <th>평균기온(℃)</th>\n",
       "      <th>최고기온(℃)</th>\n",
       "      <th>\\t최고기온시각</th>\n",
       "      <th>최저기온(℃)</th>\n",
       "      <th>최저기온시각</th>\n",
       "    </tr>\n",
       "  </thead>\n",
       "  <tbody>\n",
       "    <tr>\n",
       "      <th>0</th>\n",
       "      <td>108</td>\n",
       "      <td>서울</td>\n",
       "      <td>1907-10-01</td>\n",
       "      <td>13.5</td>\n",
       "      <td>20.7</td>\n",
       "      <td>NaN</td>\n",
       "      <td>7.9</td>\n",
       "      <td>NaN</td>\n",
       "    </tr>\n",
       "    <tr>\n",
       "      <th>1</th>\n",
       "      <td>108</td>\n",
       "      <td>서울</td>\n",
       "      <td>1907-10-02</td>\n",
       "      <td>16.2</td>\n",
       "      <td>22.0</td>\n",
       "      <td>NaN</td>\n",
       "      <td>7.9</td>\n",
       "      <td>NaN</td>\n",
       "    </tr>\n",
       "  </tbody>\n",
       "</table>\n",
       "</div>"
      ],
      "text/plain": [
       "   \\t\\t지점번호 지점명          일시  평균기온(℃)  최고기온(℃) \\t최고기온시각  최저기온(℃) 최저기온시각\n",
       "0       108  서울  1907-10-01     13.5     20.7      NaN      7.9    NaN\n",
       "1       108  서울  1907-10-02     16.2     22.0      NaN      7.9    NaN"
      ]
     },
     "execution_count": 4,
     "metadata": {},
     "output_type": "execute_result"
    }
   ],
   "source": [
    "df = pd.read_csv('./data/seoul_weather.csv', encoding='cp949', skiprows=11)\n",
    "df.head(2)"
   ]
  },
  {
   "cell_type": "code",
   "execution_count": 5,
   "id": "84ba16e2",
   "metadata": {},
   "outputs": [],
   "source": [
    "# 역대 최고기온인 날의 날짜는?\n",
    "# 일교차가 가장 큰 월은 언제인가?\n",
    "# 월교차(월간 온도 분산)가 가장 큰 년도는?"
   ]
  },
  {
   "cell_type": "code",
   "execution_count": null,
   "id": "174e378f",
   "metadata": {},
   "outputs": [],
   "source": [
    "df.drop(['\\t\\t지점번호','지점명', '최저기온시각'], axis=1, inplace=True)"
   ]
  },
  {
   "cell_type": "code",
   "execution_count": null,
   "id": "89705a5a",
   "metadata": {},
   "outputs": [],
   "source": [
    "df.drop('\\t최고기온시각', axis=1, inplace=True)\n",
    "df"
   ]
  },
  {
   "cell_type": "code",
   "execution_count": 12,
   "id": "085bd783",
   "metadata": {},
   "outputs": [
    {
     "data": {
      "text/html": [
       "<div>\n",
       "<style scoped>\n",
       "    .dataframe tbody tr th:only-of-type {\n",
       "        vertical-align: middle;\n",
       "    }\n",
       "\n",
       "    .dataframe tbody tr th {\n",
       "        vertical-align: top;\n",
       "    }\n",
       "\n",
       "    .dataframe thead th {\n",
       "        text-align: right;\n",
       "    }\n",
       "</style>\n",
       "<table border=\"1\" class=\"dataframe\">\n",
       "  <thead>\n",
       "    <tr style=\"text-align: right;\">\n",
       "      <th></th>\n",
       "      <th>일시</th>\n",
       "      <th>평온</th>\n",
       "      <th>고온</th>\n",
       "      <th>저온</th>\n",
       "    </tr>\n",
       "  </thead>\n",
       "  <tbody>\n",
       "    <tr>\n",
       "      <th>0</th>\n",
       "      <td>1907-10-01</td>\n",
       "      <td>13.5</td>\n",
       "      <td>20.7</td>\n",
       "      <td>7.9</td>\n",
       "    </tr>\n",
       "    <tr>\n",
       "      <th>1</th>\n",
       "      <td>1907-10-02</td>\n",
       "      <td>16.2</td>\n",
       "      <td>22.0</td>\n",
       "      <td>7.9</td>\n",
       "    </tr>\n",
       "    <tr>\n",
       "      <th>2</th>\n",
       "      <td>1907-10-03</td>\n",
       "      <td>16.2</td>\n",
       "      <td>21.3</td>\n",
       "      <td>13.1</td>\n",
       "    </tr>\n",
       "    <tr>\n",
       "      <th>3</th>\n",
       "      <td>1907-10-04</td>\n",
       "      <td>16.5</td>\n",
       "      <td>22.0</td>\n",
       "      <td>11.2</td>\n",
       "    </tr>\n",
       "    <tr>\n",
       "      <th>4</th>\n",
       "      <td>1907-10-05</td>\n",
       "      <td>17.6</td>\n",
       "      <td>25.4</td>\n",
       "      <td>10.9</td>\n",
       "    </tr>\n",
       "  </tbody>\n",
       "</table>\n",
       "</div>"
      ],
      "text/plain": [
       "           일시    평온    고온    저온\n",
       "0  1907-10-01  13.5  20.7   7.9\n",
       "1  1907-10-02  16.2  22.0   7.9\n",
       "2  1907-10-03  16.2  21.3  13.1\n",
       "3  1907-10-04  16.5  22.0  11.2\n",
       "4  1907-10-05  17.6  25.4  10.9"
      ]
     },
     "execution_count": 12,
     "metadata": {},
     "output_type": "execute_result"
    }
   ],
   "source": [
    "df.columns = ['일시','평온','고온','저온']\n",
    "df.head()"
   ]
  },
  {
   "cell_type": "code",
   "execution_count": 13,
   "id": "72ee6e6a",
   "metadata": {
    "collapsed": true
   },
   "outputs": [
    {
     "name": "stdout",
     "output_type": "stream",
     "text": [
      "<class 'pandas.core.frame.DataFrame'>\n",
      "RangeIndex: 40488 entries, 0 to 40487\n",
      "Data columns (total 4 columns):\n",
      " #   Column  Non-Null Count  Dtype  \n",
      "---  ------  --------------  -----  \n",
      " 0   일시      40488 non-null  object \n",
      " 1   평온      39732 non-null  float64\n",
      " 2   고온      39730 non-null  float64\n",
      " 3   저온      39731 non-null  float64\n",
      "dtypes: float64(3), object(1)\n",
      "memory usage: 1.2+ MB\n"
     ]
    }
   ],
   "source": [
    "df.info()"
   ]
  },
  {
   "cell_type": "code",
   "execution_count": 17,
   "id": "1a356ecc",
   "metadata": {},
   "outputs": [
    {
     "data": {
      "text/plain": [
       "일시    2018-08-01\n",
       "평온          33.6\n",
       "고온          39.6\n",
       "저온          27.8\n",
       "Name: 40051, dtype: object"
      ]
     },
     "execution_count": 17,
     "metadata": {},
     "output_type": "execute_result"
    }
   ],
   "source": [
    "# 역대 최고기온인 날의 날짜는?\n",
    "df.sort_values('고온', ascending=False).iloc[0]#['일시']"
   ]
  },
  {
   "cell_type": "code",
   "execution_count": 23,
   "id": "dddda840",
   "metadata": {},
   "outputs": [],
   "source": [
    "# 일교차가 가장 큰 월은 언제인가?\n",
    "df['일교차'] = df['고온'] - df['저온']"
   ]
  },
  {
   "cell_type": "code",
   "execution_count": 35,
   "id": "1994a4a8",
   "metadata": {},
   "outputs": [],
   "source": [
    "df['월'] = df['일시'].apply(lambda x: x.split('-')[1])"
   ]
  },
  {
   "cell_type": "code",
   "execution_count": 43,
   "id": "7c6b2921",
   "metadata": {},
   "outputs": [
    {
     "data": {
      "text/plain": [
       "월\n",
       "10    10.909529\n",
       "Name: 일교차, dtype: float64"
      ]
     },
     "execution_count": 43,
     "metadata": {},
     "output_type": "execute_result"
    }
   ],
   "source": [
    "df.groupby('월')['일교차'].mean().sort_values(ascending=False).iloc[:1]"
   ]
  },
  {
   "cell_type": "code",
   "execution_count": 49,
   "id": "9da57120",
   "metadata": {
    "collapsed": true
   },
   "outputs": [
    {
     "data": {
      "text/html": [
       "<div>\n",
       "<style scoped>\n",
       "    .dataframe tbody tr th:only-of-type {\n",
       "        vertical-align: middle;\n",
       "    }\n",
       "\n",
       "    .dataframe tbody tr th {\n",
       "        vertical-align: top;\n",
       "    }\n",
       "\n",
       "    .dataframe thead th {\n",
       "        text-align: right;\n",
       "    }\n",
       "</style>\n",
       "<table border=\"1\" class=\"dataframe\">\n",
       "  <thead>\n",
       "    <tr style=\"text-align: right;\">\n",
       "      <th></th>\n",
       "      <th>일시</th>\n",
       "      <th>평온</th>\n",
       "      <th>고온</th>\n",
       "      <th>저온</th>\n",
       "      <th>일교차</th>\n",
       "      <th>월</th>\n",
       "      <th>년</th>\n",
       "    </tr>\n",
       "  </thead>\n",
       "  <tbody>\n",
       "    <tr>\n",
       "      <th>0</th>\n",
       "      <td>1907-10-01</td>\n",
       "      <td>13.5</td>\n",
       "      <td>20.7</td>\n",
       "      <td>7.9</td>\n",
       "      <td>12.8</td>\n",
       "      <td>10</td>\n",
       "      <td>1907</td>\n",
       "    </tr>\n",
       "    <tr>\n",
       "      <th>1</th>\n",
       "      <td>1907-10-02</td>\n",
       "      <td>16.2</td>\n",
       "      <td>22.0</td>\n",
       "      <td>7.9</td>\n",
       "      <td>14.1</td>\n",
       "      <td>10</td>\n",
       "      <td>1907</td>\n",
       "    </tr>\n",
       "    <tr>\n",
       "      <th>2</th>\n",
       "      <td>1907-10-03</td>\n",
       "      <td>16.2</td>\n",
       "      <td>21.3</td>\n",
       "      <td>13.1</td>\n",
       "      <td>8.2</td>\n",
       "      <td>10</td>\n",
       "      <td>1907</td>\n",
       "    </tr>\n",
       "    <tr>\n",
       "      <th>3</th>\n",
       "      <td>1907-10-04</td>\n",
       "      <td>16.5</td>\n",
       "      <td>22.0</td>\n",
       "      <td>11.2</td>\n",
       "      <td>10.8</td>\n",
       "      <td>10</td>\n",
       "      <td>1907</td>\n",
       "    </tr>\n",
       "    <tr>\n",
       "      <th>4</th>\n",
       "      <td>1907-10-05</td>\n",
       "      <td>17.6</td>\n",
       "      <td>25.4</td>\n",
       "      <td>10.9</td>\n",
       "      <td>14.5</td>\n",
       "      <td>10</td>\n",
       "      <td>1907</td>\n",
       "    </tr>\n",
       "    <tr>\n",
       "      <th>...</th>\n",
       "      <td>...</td>\n",
       "      <td>...</td>\n",
       "      <td>...</td>\n",
       "      <td>...</td>\n",
       "      <td>...</td>\n",
       "      <td>...</td>\n",
       "      <td>...</td>\n",
       "    </tr>\n",
       "    <tr>\n",
       "      <th>40483</th>\n",
       "      <td>2019-10-07</td>\n",
       "      <td>14.8</td>\n",
       "      <td>17.9</td>\n",
       "      <td>13.3</td>\n",
       "      <td>4.6</td>\n",
       "      <td>10</td>\n",
       "      <td>2019</td>\n",
       "    </tr>\n",
       "    <tr>\n",
       "      <th>40484</th>\n",
       "      <td>2019-10-08</td>\n",
       "      <td>14.7</td>\n",
       "      <td>19.8</td>\n",
       "      <td>10.6</td>\n",
       "      <td>9.2</td>\n",
       "      <td>10</td>\n",
       "      <td>2019</td>\n",
       "    </tr>\n",
       "    <tr>\n",
       "      <th>40485</th>\n",
       "      <td>2019-10-09</td>\n",
       "      <td>13.6</td>\n",
       "      <td>20.4</td>\n",
       "      <td>7.7</td>\n",
       "      <td>12.7</td>\n",
       "      <td>10</td>\n",
       "      <td>2019</td>\n",
       "    </tr>\n",
       "    <tr>\n",
       "      <th>40486</th>\n",
       "      <td>2019-10-10</td>\n",
       "      <td>15.2</td>\n",
       "      <td>19.8</td>\n",
       "      <td>10.7</td>\n",
       "      <td>9.1</td>\n",
       "      <td>10</td>\n",
       "      <td>2019</td>\n",
       "    </tr>\n",
       "    <tr>\n",
       "      <th>40487</th>\n",
       "      <td>2019-10-11</td>\n",
       "      <td>18.8</td>\n",
       "      <td>26.1</td>\n",
       "      <td>13.0</td>\n",
       "      <td>13.1</td>\n",
       "      <td>10</td>\n",
       "      <td>2019</td>\n",
       "    </tr>\n",
       "  </tbody>\n",
       "</table>\n",
       "<p>40488 rows × 7 columns</p>\n",
       "</div>"
      ],
      "text/plain": [
       "               일시    평온    고온    저온   일교차   월     년\n",
       "0      1907-10-01  13.5  20.7   7.9  12.8  10  1907\n",
       "1      1907-10-02  16.2  22.0   7.9  14.1  10  1907\n",
       "2      1907-10-03  16.2  21.3  13.1   8.2  10  1907\n",
       "3      1907-10-04  16.5  22.0  11.2  10.8  10  1907\n",
       "4      1907-10-05  17.6  25.4  10.9  14.5  10  1907\n",
       "...           ...   ...   ...   ...   ...  ..   ...\n",
       "40483  2019-10-07  14.8  17.9  13.3   4.6  10  2019\n",
       "40484  2019-10-08  14.7  19.8  10.6   9.2  10  2019\n",
       "40485  2019-10-09  13.6  20.4   7.7  12.7  10  2019\n",
       "40486  2019-10-10  15.2  19.8  10.7   9.1  10  2019\n",
       "40487  2019-10-11  18.8  26.1  13.0  13.1  10  2019\n",
       "\n",
       "[40488 rows x 7 columns]"
      ]
     },
     "execution_count": 49,
     "metadata": {},
     "output_type": "execute_result"
    }
   ],
   "source": [
    "df"
   ]
  },
  {
   "cell_type": "code",
   "execution_count": 53,
   "id": "cf2cf6c8",
   "metadata": {},
   "outputs": [],
   "source": [
    "# df.sort_values('일교차', ascending=False).iloc[:1]"
   ]
  },
  {
   "cell_type": "code",
   "execution_count": 44,
   "id": "1f873421",
   "metadata": {},
   "outputs": [],
   "source": [
    "# 월교차(월간 온도 분산)가 가장 큰 년도는?"
   ]
  },
  {
   "cell_type": "code",
   "execution_count": 57,
   "id": "93188f32",
   "metadata": {},
   "outputs": [
    {
     "data": {
      "text/plain": [
       "년\n",
       "1917    12.088418\n",
       "dtype: float64"
      ]
     },
     "execution_count": 57,
     "metadata": {},
     "output_type": "execute_result"
    }
   ],
   "source": [
    "df['년'] = df['일시'].apply(lambda x: x.split('-')[0])\n",
    "df.groupby(['년','월'])['평온'].mean().unstack().std(axis=1).sort_values(ascending=False).iloc[:1]"
   ]
  },
  {
   "cell_type": "code",
   "execution_count": null,
   "id": "2d2761ed",
   "metadata": {},
   "outputs": [],
   "source": []
  },
  {
   "cell_type": "code",
   "execution_count": null,
   "id": "0987b401",
   "metadata": {},
   "outputs": [],
   "source": []
  },
  {
   "cell_type": "code",
   "execution_count": null,
   "id": "9ba7a959",
   "metadata": {},
   "outputs": [],
   "source": []
  }
 ],
 "metadata": {
  "kernelspec": {
   "display_name": "Python 3 (ipykernel)",
   "language": "python",
   "name": "python3"
  },
  "language_info": {
   "codemirror_mode": {
    "name": "ipython",
    "version": 3
   },
   "file_extension": ".py",
   "mimetype": "text/x-python",
   "name": "python",
   "nbconvert_exporter": "python",
   "pygments_lexer": "ipython3",
   "version": "3.9.7"
  }
 },
 "nbformat": 4,
 "nbformat_minor": 5
}
